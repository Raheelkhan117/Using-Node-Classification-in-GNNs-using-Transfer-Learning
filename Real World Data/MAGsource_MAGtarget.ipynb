{
  "cells": [
    {
      "cell_type": "code",
      "execution_count": 1,
      "metadata": {
        "colab": {
          "base_uri": "https://localhost:8080/"
        },
        "id": "I4DphzQcz36Q",
        "outputId": "d1eee39d-696d-4109-dbff-08bb1841dc64"
      },
      "outputs": [
        {
          "output_type": "stream",
          "name": "stdout",
          "text": [
            "Requirement already satisfied: torch in /usr/local/lib/python3.10/dist-packages (2.3.1+cu121)\n",
            "Requirement already satisfied: torchvision in /usr/local/lib/python3.10/dist-packages (0.18.1+cu121)\n",
            "Requirement already satisfied: torchaudio in /usr/local/lib/python3.10/dist-packages (2.3.1+cu121)\n",
            "Requirement already satisfied: filelock in /usr/local/lib/python3.10/dist-packages (from torch) (3.15.4)\n",
            "Requirement already satisfied: typing-extensions>=4.8.0 in /usr/local/lib/python3.10/dist-packages (from torch) (4.12.2)\n",
            "Requirement already satisfied: sympy in /usr/local/lib/python3.10/dist-packages (from torch) (1.13.1)\n",
            "Requirement already satisfied: networkx in /usr/local/lib/python3.10/dist-packages (from torch) (3.3)\n",
            "Requirement already satisfied: jinja2 in /usr/local/lib/python3.10/dist-packages (from torch) (3.1.4)\n",
            "Requirement already satisfied: fsspec in /usr/local/lib/python3.10/dist-packages (from torch) (2024.6.1)\n",
            "Requirement already satisfied: nvidia-cuda-nvrtc-cu12==12.1.105 in /usr/local/lib/python3.10/dist-packages (from torch) (12.1.105)\n",
            "Requirement already satisfied: nvidia-cuda-runtime-cu12==12.1.105 in /usr/local/lib/python3.10/dist-packages (from torch) (12.1.105)\n",
            "Requirement already satisfied: nvidia-cuda-cupti-cu12==12.1.105 in /usr/local/lib/python3.10/dist-packages (from torch) (12.1.105)\n",
            "Requirement already satisfied: nvidia-cudnn-cu12==8.9.2.26 in /usr/local/lib/python3.10/dist-packages (from torch) (8.9.2.26)\n",
            "Requirement already satisfied: nvidia-cublas-cu12==12.1.3.1 in /usr/local/lib/python3.10/dist-packages (from torch) (12.1.3.1)\n",
            "Requirement already satisfied: nvidia-cufft-cu12==11.0.2.54 in /usr/local/lib/python3.10/dist-packages (from torch) (11.0.2.54)\n",
            "Requirement already satisfied: nvidia-curand-cu12==10.3.2.106 in /usr/local/lib/python3.10/dist-packages (from torch) (10.3.2.106)\n",
            "Requirement already satisfied: nvidia-cusolver-cu12==11.4.5.107 in /usr/local/lib/python3.10/dist-packages (from torch) (11.4.5.107)\n",
            "Requirement already satisfied: nvidia-cusparse-cu12==12.1.0.106 in /usr/local/lib/python3.10/dist-packages (from torch) (12.1.0.106)\n",
            "Requirement already satisfied: nvidia-nccl-cu12==2.20.5 in /usr/local/lib/python3.10/dist-packages (from torch) (2.20.5)\n",
            "Requirement already satisfied: nvidia-nvtx-cu12==12.1.105 in /usr/local/lib/python3.10/dist-packages (from torch) (12.1.105)\n",
            "Requirement already satisfied: triton==2.3.1 in /usr/local/lib/python3.10/dist-packages (from torch) (2.3.1)\n",
            "Requirement already satisfied: nvidia-nvjitlink-cu12 in /usr/local/lib/python3.10/dist-packages (from nvidia-cusolver-cu12==11.4.5.107->torch) (12.6.20)\n",
            "Requirement already satisfied: numpy in /usr/local/lib/python3.10/dist-packages (from torchvision) (1.26.4)\n",
            "Requirement already satisfied: pillow!=8.3.*,>=5.3.0 in /usr/local/lib/python3.10/dist-packages (from torchvision) (9.4.0)\n",
            "Requirement already satisfied: MarkupSafe>=2.0 in /usr/local/lib/python3.10/dist-packages (from jinja2->torch) (2.1.5)\n",
            "Requirement already satisfied: mpmath<1.4,>=1.1.0 in /usr/local/lib/python3.10/dist-packages (from sympy->torch) (1.3.0)\n",
            "Requirement already satisfied: torch-geometric in /usr/local/lib/python3.10/dist-packages (2.5.3)\n",
            "Requirement already satisfied: tqdm in /usr/local/lib/python3.10/dist-packages (from torch-geometric) (4.66.6.dev1+g729db6c)\n",
            "Requirement already satisfied: numpy in /usr/local/lib/python3.10/dist-packages (from torch-geometric) (1.26.4)\n",
            "Requirement already satisfied: scipy in /usr/local/lib/python3.10/dist-packages (from torch-geometric) (1.13.1)\n",
            "Requirement already satisfied: fsspec in /usr/local/lib/python3.10/dist-packages (from torch-geometric) (2024.6.1)\n",
            "Requirement already satisfied: jinja2 in /usr/local/lib/python3.10/dist-packages (from torch-geometric) (3.1.4)\n",
            "Requirement already satisfied: aiohttp in /usr/local/lib/python3.10/dist-packages (from torch-geometric) (3.8.1)\n",
            "Requirement already satisfied: requests in /usr/local/lib/python3.10/dist-packages (from torch-geometric) (2.31.0)\n",
            "Requirement already satisfied: pyparsing in /usr/local/lib/python3.10/dist-packages (from torch-geometric) (3.1.2)\n",
            "Requirement already satisfied: scikit-learn in /usr/local/lib/python3.10/dist-packages (from torch-geometric) (1.3.2)\n",
            "Requirement already satisfied: psutil>=5.8.0 in /usr/local/lib/python3.10/dist-packages (from torch-geometric) (5.9.5)\n",
            "Requirement already satisfied: attrs>=17.3.0 in /usr/local/lib/python3.10/dist-packages (from aiohttp->torch-geometric) (23.2.0)\n",
            "Requirement already satisfied: charset-normalizer<3.0,>=2.0 in /usr/local/lib/python3.10/dist-packages (from aiohttp->torch-geometric) (2.1.1)\n",
            "Requirement already satisfied: multidict<7.0,>=4.5 in /usr/local/lib/python3.10/dist-packages (from aiohttp->torch-geometric) (6.0.5)\n",
            "Requirement already satisfied: async-timeout<5.0,>=4.0.0a3 in /usr/local/lib/python3.10/dist-packages (from aiohttp->torch-geometric) (4.0.3)\n",
            "Requirement already satisfied: yarl<2.0,>=1.0 in /usr/local/lib/python3.10/dist-packages (from aiohttp->torch-geometric) (1.9.4)\n",
            "Requirement already satisfied: frozenlist>=1.1.1 in /usr/local/lib/python3.10/dist-packages (from aiohttp->torch-geometric) (1.4.1)\n",
            "Requirement already satisfied: aiosignal>=1.1.2 in /usr/local/lib/python3.10/dist-packages (from aiohttp->torch-geometric) (1.3.1)\n",
            "Requirement already satisfied: MarkupSafe>=2.0 in /usr/local/lib/python3.10/dist-packages (from jinja2->torch-geometric) (2.1.5)\n",
            "Requirement already satisfied: idna<4,>=2.5 in /usr/local/lib/python3.10/dist-packages (from requests->torch-geometric) (3.7)\n",
            "Requirement already satisfied: urllib3<3,>=1.21.1 in /usr/local/lib/python3.10/dist-packages (from requests->torch-geometric) (2.0.7)\n",
            "Requirement already satisfied: certifi>=2017.4.17 in /usr/local/lib/python3.10/dist-packages (from requests->torch-geometric) (2024.7.4)\n",
            "Requirement already satisfied: joblib>=1.1.1 in /usr/local/lib/python3.10/dist-packages (from scikit-learn->torch-geometric) (1.4.2)\n",
            "Requirement already satisfied: threadpoolctl>=2.0.0 in /usr/local/lib/python3.10/dist-packages (from scikit-learn->torch-geometric) (3.5.0)\n"
          ]
        }
      ],
      "source": [
        "!pip install torch torchvision torchaudio\n",
        "!pip install torch-geometric"
      ]
    },
    {
      "cell_type": "code",
      "execution_count": null,
      "metadata": {
        "id": "TxZ8G6X-4SsV"
      },
      "outputs": [],
      "source": [
        "pip install \"git+https://github.com/tqdm/tqdm.git@devel#egg=tqdm\""
      ]
    },
    {
      "cell_type": "code",
      "execution_count": 5,
      "metadata": {
        "colab": {
          "base_uri": "https://localhost:8080/"
        },
        "id": "pJG-IdFW1AZc",
        "outputId": "543ff2fa-9dea-485b-b8f8-510c8ea65174"
      },
      "outputs": [
        {
          "output_type": "stream",
          "name": "stdout",
          "text": [
            "Requirement already satisfied: ogb in /usr/local/lib/python3.10/dist-packages (1.3.6)\n",
            "Requirement already satisfied: torch>=1.6.0 in /usr/local/lib/python3.10/dist-packages (from ogb) (2.3.1+cu121)\n",
            "Requirement already satisfied: numpy>=1.16.0 in /usr/local/lib/python3.10/dist-packages (from ogb) (1.26.4)\n",
            "Requirement already satisfied: tqdm>=4.29.0 in /usr/local/lib/python3.10/dist-packages (from ogb) (4.66.6.dev1+g729db6c)\n",
            "Requirement already satisfied: scikit-learn>=0.20.0 in /usr/local/lib/python3.10/dist-packages (from ogb) (1.3.2)\n",
            "Requirement already satisfied: pandas>=0.24.0 in /usr/local/lib/python3.10/dist-packages (from ogb) (2.1.4)\n",
            "Requirement already satisfied: six>=1.12.0 in /usr/local/lib/python3.10/dist-packages (from ogb) (1.16.0)\n",
            "Requirement already satisfied: urllib3>=1.24.0 in /usr/local/lib/python3.10/dist-packages (from ogb) (2.0.7)\n",
            "Requirement already satisfied: outdated>=0.2.0 in /usr/local/lib/python3.10/dist-packages (from ogb) (0.2.2)\n",
            "Requirement already satisfied: setuptools>=44 in /usr/local/lib/python3.10/dist-packages (from outdated>=0.2.0->ogb) (71.0.4)\n",
            "Requirement already satisfied: littleutils in /usr/local/lib/python3.10/dist-packages (from outdated>=0.2.0->ogb) (0.2.4)\n",
            "Requirement already satisfied: requests in /usr/local/lib/python3.10/dist-packages (from outdated>=0.2.0->ogb) (2.31.0)\n",
            "Requirement already satisfied: python-dateutil>=2.8.2 in /usr/local/lib/python3.10/dist-packages (from pandas>=0.24.0->ogb) (2.8.2)\n",
            "Requirement already satisfied: pytz>=2020.1 in /usr/local/lib/python3.10/dist-packages (from pandas>=0.24.0->ogb) (2024.1)\n",
            "Requirement already satisfied: tzdata>=2022.1 in /usr/local/lib/python3.10/dist-packages (from pandas>=0.24.0->ogb) (2024.1)\n",
            "Requirement already satisfied: scipy>=1.5.0 in /usr/local/lib/python3.10/dist-packages (from scikit-learn>=0.20.0->ogb) (1.13.1)\n",
            "Requirement already satisfied: joblib>=1.1.1 in /usr/local/lib/python3.10/dist-packages (from scikit-learn>=0.20.0->ogb) (1.4.2)\n",
            "Requirement already satisfied: threadpoolctl>=2.0.0 in /usr/local/lib/python3.10/dist-packages (from scikit-learn>=0.20.0->ogb) (3.5.0)\n",
            "Requirement already satisfied: filelock in /usr/local/lib/python3.10/dist-packages (from torch>=1.6.0->ogb) (3.15.4)\n",
            "Requirement already satisfied: typing-extensions>=4.8.0 in /usr/local/lib/python3.10/dist-packages (from torch>=1.6.0->ogb) (4.12.2)\n",
            "Requirement already satisfied: sympy in /usr/local/lib/python3.10/dist-packages (from torch>=1.6.0->ogb) (1.13.1)\n",
            "Requirement already satisfied: networkx in /usr/local/lib/python3.10/dist-packages (from torch>=1.6.0->ogb) (3.3)\n",
            "Requirement already satisfied: jinja2 in /usr/local/lib/python3.10/dist-packages (from torch>=1.6.0->ogb) (3.1.4)\n",
            "Requirement already satisfied: fsspec in /usr/local/lib/python3.10/dist-packages (from torch>=1.6.0->ogb) (2024.6.1)\n",
            "Requirement already satisfied: nvidia-cuda-nvrtc-cu12==12.1.105 in /usr/local/lib/python3.10/dist-packages (from torch>=1.6.0->ogb) (12.1.105)\n",
            "Requirement already satisfied: nvidia-cuda-runtime-cu12==12.1.105 in /usr/local/lib/python3.10/dist-packages (from torch>=1.6.0->ogb) (12.1.105)\n",
            "Requirement already satisfied: nvidia-cuda-cupti-cu12==12.1.105 in /usr/local/lib/python3.10/dist-packages (from torch>=1.6.0->ogb) (12.1.105)\n",
            "Requirement already satisfied: nvidia-cudnn-cu12==8.9.2.26 in /usr/local/lib/python3.10/dist-packages (from torch>=1.6.0->ogb) (8.9.2.26)\n",
            "Requirement already satisfied: nvidia-cublas-cu12==12.1.3.1 in /usr/local/lib/python3.10/dist-packages (from torch>=1.6.0->ogb) (12.1.3.1)\n",
            "Requirement already satisfied: nvidia-cufft-cu12==11.0.2.54 in /usr/local/lib/python3.10/dist-packages (from torch>=1.6.0->ogb) (11.0.2.54)\n",
            "Requirement already satisfied: nvidia-curand-cu12==10.3.2.106 in /usr/local/lib/python3.10/dist-packages (from torch>=1.6.0->ogb) (10.3.2.106)\n",
            "Requirement already satisfied: nvidia-cusolver-cu12==11.4.5.107 in /usr/local/lib/python3.10/dist-packages (from torch>=1.6.0->ogb) (11.4.5.107)\n",
            "Requirement already satisfied: nvidia-cusparse-cu12==12.1.0.106 in /usr/local/lib/python3.10/dist-packages (from torch>=1.6.0->ogb) (12.1.0.106)\n",
            "Requirement already satisfied: nvidia-nccl-cu12==2.20.5 in /usr/local/lib/python3.10/dist-packages (from torch>=1.6.0->ogb) (2.20.5)\n",
            "Requirement already satisfied: nvidia-nvtx-cu12==12.1.105 in /usr/local/lib/python3.10/dist-packages (from torch>=1.6.0->ogb) (12.1.105)\n",
            "Requirement already satisfied: triton==2.3.1 in /usr/local/lib/python3.10/dist-packages (from torch>=1.6.0->ogb) (2.3.1)\n",
            "Requirement already satisfied: nvidia-nvjitlink-cu12 in /usr/local/lib/python3.10/dist-packages (from nvidia-cusolver-cu12==11.4.5.107->torch>=1.6.0->ogb) (12.6.20)\n",
            "Requirement already satisfied: MarkupSafe>=2.0 in /usr/local/lib/python3.10/dist-packages (from jinja2->torch>=1.6.0->ogb) (2.1.5)\n",
            "Requirement already satisfied: charset-normalizer<4,>=2 in /usr/local/lib/python3.10/dist-packages (from requests->outdated>=0.2.0->ogb) (2.1.1)\n",
            "Requirement already satisfied: idna<4,>=2.5 in /usr/local/lib/python3.10/dist-packages (from requests->outdated>=0.2.0->ogb) (3.7)\n",
            "Requirement already satisfied: certifi>=2017.4.17 in /usr/local/lib/python3.10/dist-packages (from requests->outdated>=0.2.0->ogb) (2024.7.4)\n",
            "Requirement already satisfied: mpmath<1.4,>=1.1.0 in /usr/local/lib/python3.10/dist-packages (from sympy->torch>=1.6.0->ogb) (1.3.0)\n"
          ]
        }
      ],
      "source": [
        "pip install ogb"
      ]
    },
    {
      "cell_type": "markdown",
      "metadata": {
        "id": "6rznQedRoBq1"
      },
      "source": [
        "**Loading data and split into source and target(node_year_dic issue solved)**"
      ]
    },
    {
      "cell_type": "code",
      "execution_count": null,
      "metadata": {
        "id": "0w8ecHK3FxHI"
      },
      "outputs": [],
      "source": [
        "import torch\n",
        "import torch.nn.functional as F\n",
        "import torch_geometric\n",
        "from ogb.nodeproppred import PygNodePropPredDataset, Evaluator\n",
        "import torch_geometric.transforms as T\n",
        "from torch_geometric.data import Data\n",
        "from torch_geometric.utils import subgraph\n",
        "\n",
        "# ---------------------------------------------------\n",
        "# DEVICE\n",
        "# ---------------------------------------------------\n",
        "device = 'cuda' if torch.cuda.is_available() else 'cpu'\n",
        "# ---------------------------------------------------\n",
        "# Data\n",
        "# ---------------------------------------------------\n",
        "\n",
        "# LOAD Arxiv\n",
        "arxiv_dataset = PygNodePropPredDataset(name='ogbn-arxiv')\n",
        "arxiv_data = arxiv_dataset[0]\n",
        "\n",
        "arxiv_data = T.ToSparseTensor()(arxiv_data)\n",
        "##arxiv_data.adj_t = arxiv_data.adj_t.to_symmetric()\n",
        "arxiv_data = arxiv_data.to(device)\n",
        "\n",
        "arxiv_split_idx = arxiv_dataset.get_idx_split()\n",
        "arxiv_evaluator = Evaluator(name='ogbn-arxiv')\n",
        "# ---------------------------------------------------\n",
        "\n",
        "# LOAD MAG\n",
        "dataset = PygNodePropPredDataset(name=\"ogbn-mag\")\n",
        "rel_data = dataset[0]\n",
        "#print(dir(rel_data))\n",
        "#print(rel_data)\n",
        "\n",
        "\n",
        "\n",
        "data = Data(\n",
        "    x=rel_data.x_dict['paper'],\n",
        "    edge_index=rel_data.edge_index_dict[('paper', 'cites', 'paper')],\n",
        "    y=rel_data.y_dict['paper']\n",
        ").to(device)\n",
        "\n",
        "# SPLIT INTO SOURCE & TARGET SET\n",
        "years = rel_data.node_year['paper'].unique()\n",
        "source_years = years[:5]\n",
        "target_years = years[5:]\n",
        "\n",
        "source_nodes = torch.cat([\n",
        "                    torch.where(rel_data.node_year['paper'] == year)[0]\n",
        "                    for year in source_years\n",
        "                ])\n",
        "\n",
        "target_nodes = torch.cat([\n",
        "                    torch.where(rel_data.node_year['paper'] == year)[0]\n",
        "                    for year in target_years\n",
        "                ])\n",
        "\n",
        "source_nodes, _ = source_nodes.sort()\n",
        "target_nodes, _ = target_nodes.sort()\n",
        "\n",
        "source_edge_index, _ = subgraph(source_nodes, data.edge_index, relabel_nodes=True)\n",
        "target_edge_index, _ = subgraph(target_nodes, data.edge_index, relabel_nodes=True)\n",
        "\n",
        "source_data = Data(\n",
        "                x=rel_data.x_dict['paper'][source_nodes],\n",
        "                edge_index=source_edge_index,\n",
        "                y=rel_data.y_dict['paper'][source_nodes]\n",
        "            )\n",
        "\n",
        "target_data = Data(\n",
        "                x=rel_data.x_dict['paper'][target_nodes],\n",
        "                edge_index=target_edge_index,\n",
        "                y=rel_data.y_dict['paper'][target_nodes]\n",
        "            )\n",
        "\n",
        "data = target_data.to(device) # Train on Target split\n",
        "\n",
        "# MAG EVALUATOR\n",
        "evaluator = Evaluator(name=\"ogbn-mag\")\n",
        "# ---------------------------------------------------"
      ]
    },
    {
      "cell_type": "markdown",
      "metadata": {
        "id": "n405aKDQrJj_"
      },
      "source": [
        "**define training and pretraining model for MAG and Arxiv**"
      ]
    },
    {
      "cell_type": "code",
      "execution_count": null,
      "metadata": {
        "id": "x0bwFqflqjin"
      },
      "outputs": [],
      "source": [
        "import torch\n",
        "from torch import optim, nn\n",
        "from torch.cuda.amp import GradScaler, autocast\n",
        "from torch.utils.data import Dataset\n",
        "from torch_geometric.nn import GCNConv, SAGEConv, GATConv, GINConv\n",
        "from models import *\n",
        "from ogb.nodeproppred import PygNodePropPredDataset, Evaluator\n",
        "from tqdm import tqdm\n",
        "from copy import deepcopy\n",
        "import numpy as np\n",
        "\n",
        "\n",
        "def train(model, optimiser, data):\n",
        "    # TRAIN\n",
        "    model.train()\n",
        "    optimiser.zero_grad()\n",
        "\n",
        "    try:\n",
        "        out = model(data.x, data.adj_t)\n",
        "    except:\n",
        "        out = model(data.x, data.edge_index)\n",
        "\n",
        "    loss = F.nll_loss(out, data.y.squeeze(1))\n",
        "\n",
        "    loss.backward()\n",
        "    optimiser.step()\n",
        "\n",
        "    # EVAL\n",
        "    y_pred = out.argmax(dim=-1, keepdim=True)\n",
        "    acc = evaluator.eval({\n",
        "            'y_true': data.y,\n",
        "            'y_pred': y_pred,\n",
        "        })['acc']\n",
        "\n",
        "    return loss.item(), acc\n",
        "\n",
        "\n",
        "def pretrain_mag_source(model, optimiser, data, model_name, epochs=1000):\n",
        "    best_acc = 0.0\n",
        "\n",
        "    for epoch in tqdm(range(epochs)):\n",
        "        # TRAIN\n",
        "        model.train()\n",
        "        optimiser.zero_grad()\n",
        "\n",
        "        out = model(data.x, data.edge_index)\n",
        "        loss = F.nll_loss(out, data.y.squeeze(1))\n",
        "\n",
        "        loss.backward()\n",
        "        optimiser.step()\n",
        "\n",
        "        # EVAL\n",
        "        y_pred = out.argmax(dim=-1, keepdim=True)\n",
        "        acc = evaluator.eval({\n",
        "                'y_true': data.y,\n",
        "                'y_pred': y_pred,\n",
        "            })['acc']\n",
        "\n",
        "        if acc > best_acc:\n",
        "            best_acc = acc\n",
        "            torch.save(model.state_dict(), 'source/{}_mag_source.pth'.format(model_name))\n",
        "\n",
        "    return best_acc\n",
        "\n"
      ]
    },
    {
      "cell_type": "markdown",
      "metadata": {
        "id": "7uXdejHwryO2"
      },
      "source": [
        "**pretraining on source split MAG GCN**"
      ]
    },
    {
      "cell_type": "code",
      "execution_count": null,
      "metadata": {
        "id": "SzSAnk9XnekK"
      },
      "outputs": [],
      "source": [
        "# PRETRAIN ON SOURCE SPLIT\n",
        "from models import *\n",
        "\n",
        "model = GCN(\n",
        "        in_channels=data.num_features,\n",
        "        hidden_channels=256,\n",
        "        out_channels=dataset.num_classes,\n",
        "        num_layers=3\n",
        "    ).to(device)\n",
        "\n",
        "\n",
        "model.reset_parameters()\n",
        "source_optimiser = torch.optim.Adam(model.parameters(), lr=0.001)\n",
        "print('Pretraining model on MAG Source split')\n",
        "best_acc = pretrain_mag_source(model, source_optimiser, source_data.to(device), \"GCN\")\n",
        "print('Best accuracy: {:.3}'.format(best_acc))\n",
        "model.load_state_dict(\n",
        "        torch.load( '/content/source/{}_mag_source.pth'.format(\"GCN\") )\n",
        "    )\n",
        "\n"
      ]
    },
    {
      "cell_type": "markdown",
      "metadata": {
        "id": "1SxXaKw9kdNH"
      },
      "source": [
        "**Training on Target MAG using Pretrained source MAG(Fine Tuning)**"
      ]
    },
    {
      "cell_type": "code",
      "execution_count": null,
      "metadata": {
        "id": "RmmI-p05OCLm"
      },
      "outputs": [],
      "source": [
        "# ---------------------------------------------------\n",
        "    # MODEL\n",
        "    # ---------------------------------------------------\n",
        "    # USE MAG MODEL\n",
        "model = GCN(\n",
        "        in_channels=data.num_features,\n",
        "        hidden_channels=253,\n",
        "        out_channels=dataset.num_classes,\n",
        "        num_layers=3\n",
        "    ).to(device)\n",
        "\n",
        "#MAG TARGET TRAINING\n",
        "print('Training on MAG')\n",
        "optimiser = torch.optim.Adam(model.parameters(), lr=0.001)\n",
        "\n",
        "for epoch in tqdm(range(2)):\n",
        "  train_loss, acc = train(model, optimiser, data)\n",
        "  print('Epoch: {:03d}, Train Loss: {:.3f}, Train Acc: {:.3f}'.format(epoch, train_loss, acc))"
      ]
    },
    {
      "cell_type": "markdown",
      "metadata": {
        "id": "a4W1rVKKHVZb"
      },
      "source": [
        "**Feature Extraction**"
      ]
    },
    {
      "cell_type": "markdown",
      "metadata": {
        "id": "tLjv2BQWH8bK"
      },
      "source": [
        "step 1: split target into train test and validation sets"
      ]
    },
    {
      "cell_type": "code",
      "execution_count": null,
      "metadata": {
        "id": "tvValEoKGA9X"
      },
      "outputs": [],
      "source": [
        "from sklearn.model_selection import train_test_split\n",
        "\n",
        "# Ensure that indices are in the correct format\n",
        "target_indices = torch.arange(target_data.num_nodes)\n",
        "\n",
        "# Split indices into train (80%) and temp (20%)\n",
        "train_indices, temp_indices = train_test_split(target_indices, test_size=0.2, random_state=42)\n",
        "\n",
        "# Split temp into validation (10%) and test (10%)\n",
        "val_indices, test_indices = train_test_split(temp_indices, test_size=0.5, random_state=42)\n",
        "\n",
        "train_indices = torch.tensor(train_indices, dtype=torch.long).to(device)\n",
        "val_indices = torch.tensor(val_indices, dtype=torch.long).to(device)\n",
        "test_indices = torch.tensor(test_indices, dtype=torch.long).to(device)\n",
        "\n",
        "print(f'Train indices: {train_indices.size(0)}')\n",
        "print(f'Validation indices: {val_indices.size(0)}')\n",
        "print(f'Test indices: {test_indices.size(0)}')\n"
      ]
    },
    {
      "cell_type": "markdown",
      "metadata": {
        "id": "HrkJx9fRIVHO"
      },
      "source": [
        "step 2: feature extraction using the pretrained model"
      ]
    },
    {
      "cell_type": "code",
      "execution_count": null,
      "metadata": {
        "colab": {
          "background_save": true
        },
        "id": "mIGlDz_lIig5"
      },
      "outputs": [],
      "source": [
        "def extract_features(model, data):\n",
        "    model.eval()\n",
        "    with torch.no_grad():\n",
        "        features = model.convs[0](data.x, data.edge_index)\n",
        "        for conv in model.convs[1:]:\n",
        "            features = conv(features, data.edge_index)\n",
        "            features = F.relu(features)\n",
        "        return features\n",
        "\n",
        "def train_classifier(features, labels, train_idx, val_idx, test_idx, num_classes):\n",
        "    from sklearn.linear_model import LogisticRegression\n",
        "    from sklearn.metrics import accuracy_score\n",
        "\n",
        "##ajust iterations\n",
        "    clf = LogisticRegression(max_iter=100)\n",
        "    clf.fit(features[train_idx.cpu()], labels[train_idx.cpu()].squeeze(1))\n",
        "\n",
        "    val_preds = clf.predict(features[val_idx.cpu()])\n",
        "    test_preds = clf.predict(features[test_idx.cpu()])\n",
        "\n",
        "    val_acc = accuracy_score(labels[val_idx.cpu()].cpu(), val_preds)\n",
        "    feat_test_acc = accuracy_score(labels[test_idx.cpu()].cpu(), test_preds)\n",
        "\n",
        "    return val_acc, test_acc\n",
        "\n",
        "# Load the pretrained model\n",
        "model.load_state_dict(torch.load('/content/source/GCN_mag_source.pth'))\n",
        "\n",
        "# Extract features from the target data using the pretrained model\n",
        "target_features = extract_features(model, target_data)\n",
        "\n",
        "# Define the number of classes\n",
        "num_classes = target_data.y.max().item() + 1\n",
        "\n",
        "# Train a classifier on the extracted features\n",
        "feat_val_acc, feat_test_acc = train_classifier(target_features.cpu(), target_data.y.cpu(), train_indices, val_indices, test_indices, num_classes)\n",
        "\n",
        "print(f'Validation Accuracy: {val_acc:.4f}, Test Accuracy: {feat_test_acc:.4f}')\n"
      ]
    },
    {
      "cell_type": "markdown",
      "metadata": {
        "id": "LJ_ZPrfNL554"
      },
      "source": [
        "**Baseline GCN training without transfer learning**"
      ]
    },
    {
      "cell_type": "code",
      "execution_count": null,
      "metadata": {
        "id": "wvu-647FM7Et"
      },
      "outputs": [],
      "source": [
        "def train_baseline_gcn(model, optimizer, data, train_idx, val_idx, epochs=10):\n",
        "    best_val_acc = 0.0\n",
        "\n",
        "    for epoch in tqdm(range(epochs)):\n",
        "        # TRAIN\n",
        "        model.train()\n",
        "        optimizer.zero_grad()\n",
        "\n",
        "        out = model(data.x, data.edge_index)\n",
        "        loss = F.nll_loss(out[train_idx], data.y[train_idx].squeeze(1))\n",
        "\n",
        "        loss.backward()\n",
        "        optimizer.step()\n",
        "\n",
        "        # EVAL\n",
        "        model.eval()\n",
        "        with torch.no_grad():\n",
        "            out = model(data.x, data.edge_index)\n",
        "            val_loss = F.nll_loss(out[val_idx], data.y[val_idx].squeeze(1)).item()\n",
        "            val_acc = (out[val_idx].argmax(dim=1) == data.y[val_idx].squeeze(1)).sum().item() / val_idx.size(0)\n",
        "\n",
        "        if val_acc > best_val_acc:\n",
        "            best_val_acc = val_acc\n",
        "            torch.save(model.state_dict(), 'baseline/gcn_baseline.pth')\n",
        "\n",
        "        print(f'Epoch {epoch:03d}, Loss: {loss.item():.4f}, Val Acc: {val_acc:.4f}')\n",
        "\n",
        "    return best_val_acc\n",
        "\n",
        "def evaluate_model(model, data, test_idx):\n",
        "    model.eval()\n",
        "    with torch.no_grad():\n",
        "        out = model(data.x, data.edge_index)\n",
        "        #will change test_acc name to base_test_acc\n",
        "        base_test_acc = (out[test_idx].argmax(dim=1) == data.y[test_idx].squeeze(1)).sum().item() / test_idx.size(0)\n",
        "    return test_acc\n"
      ]
    },
    {
      "cell_type": "code",
      "execution_count": null,
      "metadata": {
        "id": "wf039sgJN041"
      },
      "outputs": [],
      "source": [
        "# Use predefined target MAG dataset split\n",
        "target_train_indices = train_indices.to(device)\n",
        "target_val_indices = val_indices.to(device)\n",
        "target_test_indices = test_indices.to(device)\n",
        "\n",
        "# Initialize the model, optimizer, and other parameters\n",
        "baseline_model = GCN(in_channels=128, hidden_channels=253, out_channels=num_classes, num_layers=3, dropout=0.5).to(device)\n",
        "baseline_optimizer = torch.optim.Adam(baseline_model.parameters(), lr=0.01, weight_decay=5e-4)\n",
        "\n",
        "# Train the baseline GCN model\n",
        "best_val_acc = train_baseline_gcn(baseline_model, baseline_optimizer, target_data, target_train_indices, target_val_indices, epochs=2)\n",
        "\n",
        "print(f'Best Validation Accuracy (Baseline GCN): {best_val_acc:.4f}')\n",
        "\n",
        "# Load the best model\n",
        "baseline_model.load_state_dict(torch.load('baseline/gcn_baseline.pth'))\n",
        "\n",
        "# Evaluate the model on the test set\n",
        "base_test_acc = evaluate_model(baseline_model, target_data, target_test_indices)\n",
        "\n",
        "print(f'Test Accuracy (Baseline GCN): {base_test_acc:.4f}')\n"
      ]
    },
    {
      "cell_type": "markdown",
      "source": [
        "**Comparison**"
      ],
      "metadata": {
        "id": "DK9Uhul-lcZx"
      }
    },
    {
      "cell_type": "code",
      "execution_count": null,
      "metadata": {
        "id": "qY80uRJ8Zsy4"
      },
      "outputs": [],
      "source": [
        "# Compare the models\n",
        "print(\"Baseline Model:\")\n",
        "print(f\"Test Accuracy: {base_test_acc:.4f}\")\n",
        "\n",
        "print(\"Fine-Tuned Model:\")\n",
        "# Assume fine_tune_val_acc and fine_tune_test_acc are obtained during fine-tuning\n",
        "#print(f\"Validation Accuracy: {fine_tune_val_acc:.4f}, Test Accuracy: {fine_tune_test_acc:.4f}\")\n",
        "print(f\"Test Accuracy: {acc:.4f}\")\n",
        "\n",
        "print(\"Feature Extraction Model:\")\n",
        "print(f\" Test Accuracy: {feat_test_acc:.4f}\")\n"
      ]
    }
  ],
  "metadata": {
    "colab": {
      "provenance": []
    },
    "kernelspec": {
      "display_name": "Python 3",
      "name": "python3"
    },
    "language_info": {
      "name": "python"
    }
  },
  "nbformat": 4,
  "nbformat_minor": 0
}